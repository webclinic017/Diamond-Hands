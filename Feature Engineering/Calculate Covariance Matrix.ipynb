{
 "cells": [
  {
   "cell_type": "code",
   "execution_count": 19,
   "id": "bibliographic-marker",
   "metadata": {},
   "outputs": [],
   "source": [
    "# Create Covariance Matrix\n",
    "# https://medium.com/analytics-vidhya/modern-portfolio-theory-model-implementation-in-python-e416facabf46"
   ]
  },
  {
   "cell_type": "code",
   "execution_count": 20,
   "id": "photographic-crawford",
   "metadata": {},
   "outputs": [],
   "source": [
    "import numpy as np\n",
    "import pandas as pd\n",
    "from scipy.optimize import minimize\n",
    "import matplotlib.pyplot as plt\n",
    "from IPython.display import display\n",
    "import pickle\n",
    "import yfinance as yf"
   ]
  },
  {
   "cell_type": "code",
   "execution_count": 21,
   "id": "dynamic-uzbekistan",
   "metadata": {},
   "outputs": [],
   "source": [
    "TREASURY_BILL_RATE = 0.04  #%, feb 2021\n",
    "TRADING_DAYS_PER_YEAR = 250\n",
    "\n",
    "# Stocks\n",
    "stocks = ['SPY','AAPL','AMC','BB','F','GME','GRWG','MO','NIO','PLTR','RKT','SNDL','TLRY','TSLA','VIAC']\n",
    "\n",
    "# Data Locations\n",
    "processed_input_dir = '../../Data/ProcessedInputs/'"
   ]
  },
  {
   "cell_type": "code",
   "execution_count": 22,
   "id": "lined-drunk",
   "metadata": {},
   "outputs": [],
   "source": [
    "# Needed for type hinting\n",
    "class Asset:\n",
    "    pass\n",
    "\n",
    "\n",
    "def get_log_period_returns(price_history):\n",
    "    #close = price_history['Close'].values  \n",
    "    #return np.log(close[1:] / close[:-1]).reshape(-1, 1)\n",
    "    #return (close[1:] / close[:-1]).reshape(-1, 1)\n",
    "    return price_history['Close'].pct_change()[1:].values.reshape(-1, 1)\n",
    "\n",
    "\n",
    "# daily_price_history has to at least have a column, called 'Close'\n",
    "class Asset:\n",
    "    def __init__(self, name, daily_price_history):\n",
    "        self.name = name\n",
    "        self.daily_returns = get_log_period_returns(daily_price_history)\n",
    "        self.expected_daily_return = np.mean(self.daily_returns)\n",
    "  \n",
    "    @property\n",
    "    def expected_return(self):\n",
    "        return TRADING_DAYS_PER_YEAR * self.expected_daily_return\n",
    "\n",
    "    def __repr__(self):\n",
    "        return f'<Asset name={self.name}, expected return={self.expected_return}>'\n",
    "\n",
    "    @staticmethod\n",
    "    def covariance_matrix(assets):  # tuple for hashing in the cache\n",
    "        product_expectation = np.zeros((len(assets), len(assets)))\n",
    "        for i in range(len(assets)):\n",
    "            for j in range(len(assets)):\n",
    "                if i == j:\n",
    "                    product_expectation[i][j] = np.mean(assets[i].daily_returns * assets[j].daily_returns)\n",
    "                else:\n",
    "                    product_expectation[i][j] = np.mean(assets[i].daily_returns @ assets[j].daily_returns.T)\n",
    "    \n",
    "        product_expectation *= (TRADING_DAYS_PER_YEAR - 1) ** 2\n",
    "\n",
    "        expected_returns = np.array([asset.expected_return for asset in assets]).reshape(-1, 1)\n",
    "        product_of_expectations = expected_returns @ expected_returns.T\n",
    "\n",
    "        return product_expectation - product_of_expectations"
   ]
  },
  {
   "cell_type": "code",
   "execution_count": 23,
   "id": "renewable-balloon",
   "metadata": {},
   "outputs": [],
   "source": [
    "def yf_retrieve_data(tickers):\n",
    "    dataframes = []\n",
    "\n",
    "    for ticker_name in tickers:\n",
    "        history = yf.download(ticker_name, \n",
    "                  start='2011-01-01', \n",
    "                  end='2021-02-28', \n",
    "                  progress=False)\n",
    "\n",
    "        if history.isnull().any(axis=1).iloc[0]:  # the first row can have NaNs\n",
    "            history = history.iloc[1:]\n",
    "\n",
    "        assert not history.isnull().any(axis=None), f'history has NaNs in {ticker_name}'\n",
    "        dataframes.append(history)\n",
    "\n",
    "    return dataframes"
   ]
  },
  {
   "cell_type": "code",
   "execution_count": 24,
   "id": "reliable-crash",
   "metadata": {},
   "outputs": [],
   "source": [
    "stocks = ['SPY','AAPL','AMC','BB','F','GME','GRWG','MO','NIO','PLTR','RKT','SNDL','TLRY','TSLA','VIAC']\n",
    "\n",
    "daily_dataframes = yf_retrieve_data(stocks)\n",
    "assets = tuple([Asset(name, daily_df) for name, daily_df in zip(stocks, daily_dataframes)])"
   ]
  },
  {
   "cell_type": "code",
   "execution_count": 25,
   "id": "better-right",
   "metadata": {},
   "outputs": [
    {
     "data": {
      "text/plain": [
       "(<Asset name=SPY, expected return=0.12215818952519739>,\n",
       " <Asset name=AAPL, expected return=0.2688027778236298>,\n",
       " <Asset name=AMC, expected return=0.3951188691566217>,\n",
       " <Asset name=BB, expected return=-0.0010473983140068931>,\n",
       " <Asset name=F, expected return=0.009496000126166467>,\n",
       " <Asset name=GME, expected return=0.5185553858112569>,\n",
       " <Asset name=GRWG, expected return=1.0112964209541084>,\n",
       " <Asset name=MO, expected return=0.07796950118545687>,\n",
       " <Asset name=NIO, expected return=1.3393710552815843>,\n",
       " <Asset name=PLTR, expected return=2.8732210813361774>,\n",
       " <Asset name=RKT, expected return=0.26079989389245795>,\n",
       " <Asset name=SNDL, expected return=0.4792799126862355>,\n",
       " <Asset name=TLRY, expected return=0.9686899755320086>,\n",
       " <Asset name=TSLA, expected return=0.6260223544486299>,\n",
       " <Asset name=VIAC, expected return=0.1797195836222838>)"
      ]
     },
     "execution_count": 25,
     "metadata": {},
     "output_type": "execute_result"
    }
   ],
   "source": [
    "assets"
   ]
  },
  {
   "cell_type": "code",
   "execution_count": 26,
   "id": "fifth-amateur",
   "metadata": {},
   "outputs": [],
   "source": [
    "cov_matrix = Asset.covariance_matrix(assets)"
   ]
  },
  {
   "cell_type": "code",
   "execution_count": 27,
   "id": "convertible-harbor",
   "metadata": {},
   "outputs": [],
   "source": [
    "with open(processed_input_dir+'covariance_matrix.bin','wb') as f:\n",
    "    pickle.dump(cov_matrix,f)"
   ]
  },
  {
   "cell_type": "code",
   "execution_count": 28,
   "id": "indonesian-sunrise",
   "metadata": {},
   "outputs": [],
   "source": [
    "expected_returns = np.array([asset.expected_return for asset in assets]).reshape(-1, 1)"
   ]
  },
  {
   "cell_type": "code",
   "execution_count": 29,
   "id": "protected-session",
   "metadata": {},
   "outputs": [],
   "source": [
    "with open(processed_input_dir+'expected_returns.bin','wb') as f:\n",
    "    pickle.dump(expected_returns,f)"
   ]
  },
  {
   "cell_type": "code",
   "execution_count": 30,
   "id": "spatial-place",
   "metadata": {},
   "outputs": [
    {
     "data": {
      "text/plain": [
       "Date\n",
       "2011-01-04    0.004893\n",
       "2011-01-05   -0.005890\n",
       "2011-01-06    0.008769\n",
       "2011-01-07   -0.001018\n",
       "2011-01-10   -0.007683\n",
       "                ...   \n",
       "2021-02-22   -0.012778\n",
       "2021-02-23   -0.006201\n",
       "2021-02-24    0.004341\n",
       "2021-02-25    0.010561\n",
       "2021-02-26   -0.015522\n",
       "Name: Open, Length: 2554, dtype: float64"
      ]
     },
     "execution_count": 30,
     "metadata": {},
     "output_type": "execute_result"
    }
   ],
   "source": [
    "daily_dataframes[0]['Open'].pct_change()[1:]"
   ]
  },
  {
   "cell_type": "code",
   "execution_count": null,
   "id": "practical-exclusion",
   "metadata": {},
   "outputs": [],
   "source": []
  }
 ],
 "metadata": {
  "kernelspec": {
   "display_name": "python39",
   "language": "python",
   "name": "python39"
  },
  "language_info": {
   "codemirror_mode": {
    "name": "ipython",
    "version": 3
   },
   "file_extension": ".py",
   "mimetype": "text/x-python",
   "name": "python",
   "nbconvert_exporter": "python",
   "pygments_lexer": "ipython3",
   "version": "3.9.2"
  }
 },
 "nbformat": 4,
 "nbformat_minor": 5
}
